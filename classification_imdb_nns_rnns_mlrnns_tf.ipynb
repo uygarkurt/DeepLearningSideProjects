{
 "cells": [
  {
   "cell_type": "code",
   "execution_count": 1,
   "id": "f9e1ce34",
   "metadata": {},
   "outputs": [],
   "source": [
    "import numpy as np\n",
    "import tensorflow as tf\n",
    "import tensorflow_datasets as tfds\n",
    "from tensorflow.python.client import device_lib\n",
    "from tensorflow.keras.preprocessing.text import Tokenizer\n",
    "from tensorflow.keras.preprocessing.sequence import pad_sequences"
   ]
  },
  {
   "cell_type": "code",
   "execution_count": 2,
   "id": "04fc80d5",
   "metadata": {
    "scrolled": true
   },
   "outputs": [
    {
     "name": "stdout",
     "output_type": "stream",
     "text": [
      "['/device:GPU:0']\n"
     ]
    }
   ],
   "source": [
    "def get_available_gpus():\n",
    "    local_device_protos = device_lib.list_local_devices()\n",
    "    return [x.name for x in local_device_protos if x.device_type == 'GPU']\n",
    "print(get_available_gpus())\n",
    "\n",
    "tf.random.set_seed(0)"
   ]
  },
  {
   "cell_type": "code",
   "execution_count": 3,
   "id": "cabf1867",
   "metadata": {},
   "outputs": [],
   "source": [
    "imdb, info = tfds.load(\"imdb_reviews\", with_info=True, as_supervised=True)\n",
    "\n",
    "train_data, test_data = imdb[\"train\"], imdb[\"test\"]"
   ]
  },
  {
   "cell_type": "code",
   "execution_count": 4,
   "id": "0552dd94",
   "metadata": {},
   "outputs": [],
   "source": [
    "training_sentences = []\n",
    "training_labels = []\n",
    "\n",
    "testing_sentences = []\n",
    "testing_labels = []\n",
    "\n",
    "for s, l in train_data:\n",
    "    training_sentences.append(s.numpy().decode('utf8'))\n",
    "    training_labels.append(l.numpy())\n",
    "    \n",
    "for s, l in test_data:\n",
    "    testing_sentences.append(s.numpy().decode('utf8'))\n",
    "    testing_labels.append(l.numpy())"
   ]
  },
  {
   "cell_type": "code",
   "execution_count": 5,
   "id": "967bbd9d",
   "metadata": {},
   "outputs": [],
   "source": [
    "training_labels_final = np.array(training_labels)\n",
    "testing_labels_final = np.array(testing_labels)"
   ]
  },
  {
   "cell_type": "code",
   "execution_count": 6,
   "id": "cc54ffdd",
   "metadata": {},
   "outputs": [],
   "source": [
    "vocab_size = 10000\n",
    "embedding_dim = 16\n",
    "max_length = 120\n",
    "trunc_type = \"post\"\n",
    "oov_tok = \"<OOV>\"\n",
    "\n",
    "tokenizer = Tokenizer(num_words=vocab_size, oov_token=oov_tok)\n",
    "tokenizer.fit_on_texts(training_sentences)\n",
    "word_index = tokenizer.word_index\n",
    "\n",
    "sequences = tokenizer.texts_to_sequences(training_sentences)\n",
    "padded = pad_sequences(sequences, maxlen=max_length, truncating=trunc_type)\n",
    "\n",
    "testing_sequences = tokenizer.texts_to_sequences(testing_sentences)\n",
    "testing_padded = pad_sequences(testing_sequences, maxlen=max_length)"
   ]
  },
  {
   "cell_type": "code",
   "execution_count": 7,
   "id": "721202e1",
   "metadata": {},
   "outputs": [
    {
     "name": "stdout",
     "output_type": "stream",
     "text": [
      "Model: \"sequential\"\n",
      "_________________________________________________________________\n",
      "Layer (type)                 Output Shape              Param #   \n",
      "=================================================================\n",
      "embedding (Embedding)        (None, 120, 16)           160000    \n",
      "_________________________________________________________________\n",
      "flatten (Flatten)            (None, 1920)              0         \n",
      "_________________________________________________________________\n",
      "dense (Dense)                (None, 6)                 11526     \n",
      "_________________________________________________________________\n",
      "dense_1 (Dense)              (None, 1)                 7         \n",
      "=================================================================\n",
      "Total params: 171,533\n",
      "Trainable params: 171,533\n",
      "Non-trainable params: 0\n",
      "_________________________________________________________________\n"
     ]
    }
   ],
   "source": [
    "model = tf.keras.Sequential([\n",
    "    tf.keras.layers.Embedding(vocab_size, embedding_dim, input_length=max_length),\n",
    "    tf.keras.layers.Flatten(),\n",
    "    tf.keras.layers.Dense(6, activation='relu'),\n",
    "    tf.keras.layers.Dense(1, activation='sigmoid')\n",
    "])\n",
    "model.compile(loss='binary_crossentropy',optimizer='adam', metrics=['accuracy'])\n",
    "model.summary()"
   ]
  },
  {
   "cell_type": "code",
   "execution_count": 8,
   "id": "bf4c4627",
   "metadata": {},
   "outputs": [
    {
     "name": "stdout",
     "output_type": "stream",
     "text": [
      "Epoch 1/5\n",
      "782/782 [==============================] - 3s 4ms/step - loss: 0.5073 - accuracy: 0.7239 - val_loss: 0.3431 - val_accuracy: 0.8500\n",
      "Epoch 2/5\n",
      "782/782 [==============================] - 3s 4ms/step - loss: 0.2433 - accuracy: 0.9057 - val_loss: 0.3620 - val_accuracy: 0.8430\n",
      "Epoch 3/5\n",
      "782/782 [==============================] - 3s 4ms/step - loss: 0.0948 - accuracy: 0.9749 - val_loss: 0.4603 - val_accuracy: 0.8257\n",
      "Epoch 4/5\n",
      "782/782 [==============================] - 3s 4ms/step - loss: 0.0234 - accuracy: 0.9969 - val_loss: 0.5390 - val_accuracy: 0.8241\n",
      "Epoch 5/5\n",
      "782/782 [==============================] - 3s 4ms/step - loss: 0.0060 - accuracy: 0.9995 - val_loss: 0.5964 - val_accuracy: 0.8278\n"
     ]
    },
    {
     "data": {
      "text/plain": [
       "<tensorflow.python.keras.callbacks.History at 0x7fdc58417fd0>"
      ]
     },
     "execution_count": 8,
     "metadata": {},
     "output_type": "execute_result"
    }
   ],
   "source": [
    "num_epochs = 5\n",
    "model.fit(padded,\n",
    "          training_labels_final,\n",
    "          epochs=num_epochs,\n",
    "          validation_data=(testing_padded, testing_labels_final))"
   ]
  },
  {
   "cell_type": "code",
   "execution_count": 9,
   "id": "a852d817",
   "metadata": {},
   "outputs": [
    {
     "name": "stdout",
     "output_type": "stream",
     "text": [
      "Model: \"sequential_1\"\n",
      "_________________________________________________________________\n",
      "Layer (type)                 Output Shape              Param #   \n",
      "=================================================================\n",
      "embedding_1 (Embedding)      (None, 120, 16)           160000    \n",
      "_________________________________________________________________\n",
      "bidirectional (Bidirectional (None, 64)                12544     \n",
      "_________________________________________________________________\n",
      "dense_2 (Dense)              (None, 6)                 390       \n",
      "_________________________________________________________________\n",
      "dense_3 (Dense)              (None, 1)                 7         \n",
      "=================================================================\n",
      "Total params: 172,941\n",
      "Trainable params: 172,941\n",
      "Non-trainable params: 0\n",
      "_________________________________________________________________\n"
     ]
    }
   ],
   "source": [
    "model = tf.keras.Sequential([\n",
    "    tf.keras.layers.Embedding(vocab_size, embedding_dim, input_length=max_length),\n",
    "    tf.keras.layers.Bidirectional(tf.keras.layers.LSTM(32)),\n",
    "    tf.keras.layers.Dense(6, activation='relu'),\n",
    "    tf.keras.layers.Dense(1, activation='sigmoid')\n",
    "])\n",
    "model.compile(loss='binary_crossentropy',optimizer='adam',metrics=['accuracy'])\n",
    "model.summary()"
   ]
  },
  {
   "cell_type": "code",
   "execution_count": 10,
   "id": "fd90b99b",
   "metadata": {},
   "outputs": [
    {
     "name": "stdout",
     "output_type": "stream",
     "text": [
      "Epoch 1/30\n",
      "782/782 [==============================] - 10s 13ms/step - loss: 0.6663 - accuracy: 0.5616 - val_loss: 0.6047 - val_accuracy: 0.5768\n",
      "Epoch 2/30\n",
      "782/782 [==============================] - 10s 12ms/step - loss: 0.4846 - accuracy: 0.7681 - val_loss: 0.3728 - val_accuracy: 0.8410\n",
      "Epoch 3/30\n",
      "782/782 [==============================] - 10s 12ms/step - loss: 0.3108 - accuracy: 0.8750 - val_loss: 0.3523 - val_accuracy: 0.8448\n",
      "Epoch 4/30\n",
      "782/782 [==============================] - 10s 12ms/step - loss: 0.2415 - accuracy: 0.9091 - val_loss: 0.4234 - val_accuracy: 0.8356\n",
      "Epoch 5/30\n",
      "782/782 [==============================] - 10s 12ms/step - loss: 0.1964 - accuracy: 0.9295 - val_loss: 0.4459 - val_accuracy: 0.8276\n",
      "Epoch 6/30\n",
      "782/782 [==============================] - 10s 12ms/step - loss: 0.1595 - accuracy: 0.9446 - val_loss: 0.4742 - val_accuracy: 0.8290\n",
      "Epoch 7/30\n",
      "782/782 [==============================] - 10s 12ms/step - loss: 0.1385 - accuracy: 0.9533 - val_loss: 0.4938 - val_accuracy: 0.8234\n",
      "Epoch 8/30\n",
      "782/782 [==============================] - 9s 12ms/step - loss: 0.1167 - accuracy: 0.9604 - val_loss: 0.5497 - val_accuracy: 0.8231\n",
      "Epoch 9/30\n",
      "782/782 [==============================] - 10s 12ms/step - loss: 0.0953 - accuracy: 0.9678 - val_loss: 0.7213 - val_accuracy: 0.8191\n",
      "Epoch 10/30\n",
      "782/782 [==============================] - 10s 12ms/step - loss: 0.0889 - accuracy: 0.9701 - val_loss: 0.7976 - val_accuracy: 0.8124\n",
      "Epoch 11/30\n",
      "782/782 [==============================] - 10s 12ms/step - loss: 0.0685 - accuracy: 0.9791 - val_loss: 0.7556 - val_accuracy: 0.8156\n",
      "Epoch 12/30\n",
      "782/782 [==============================] - 10s 12ms/step - loss: 0.0602 - accuracy: 0.9817 - val_loss: 0.7434 - val_accuracy: 0.8128\n",
      "Epoch 13/30\n",
      "782/782 [==============================] - 10s 12ms/step - loss: 0.0547 - accuracy: 0.9830 - val_loss: 1.1014 - val_accuracy: 0.8057\n",
      "Epoch 14/30\n",
      "782/782 [==============================] - 10s 12ms/step - loss: 0.0460 - accuracy: 0.9860 - val_loss: 0.7967 - val_accuracy: 0.8107\n",
      "Epoch 15/30\n",
      "782/782 [==============================] - 10s 12ms/step - loss: 0.0443 - accuracy: 0.9862 - val_loss: 0.9162 - val_accuracy: 0.8160\n",
      "Epoch 16/30\n",
      "782/782 [==============================] - 10s 12ms/step - loss: 0.0336 - accuracy: 0.9902 - val_loss: 1.0031 - val_accuracy: 0.8159\n",
      "Epoch 17/30\n",
      "782/782 [==============================] - 10s 13ms/step - loss: 0.0264 - accuracy: 0.9921 - val_loss: 0.9817 - val_accuracy: 0.8154\n",
      "Epoch 18/30\n",
      "782/782 [==============================] - 10s 13ms/step - loss: 0.0254 - accuracy: 0.9922 - val_loss: 1.1942 - val_accuracy: 0.8145\n",
      "Epoch 19/30\n",
      "782/782 [==============================] - 10s 13ms/step - loss: 0.0197 - accuracy: 0.9941 - val_loss: 1.0071 - val_accuracy: 0.8064\n",
      "Epoch 20/30\n",
      "782/782 [==============================] - 10s 13ms/step - loss: 0.0261 - accuracy: 0.9924 - val_loss: 1.0732 - val_accuracy: 0.8034\n",
      "Epoch 21/30\n",
      "782/782 [==============================] - 10s 13ms/step - loss: 0.0259 - accuracy: 0.9920 - val_loss: 1.0851 - val_accuracy: 0.8108\n",
      "Epoch 22/30\n",
      "782/782 [==============================] - 10s 13ms/step - loss: 0.0201 - accuracy: 0.9944 - val_loss: 1.0982 - val_accuracy: 0.8151\n",
      "Epoch 23/30\n",
      "782/782 [==============================] - 10s 13ms/step - loss: 0.0195 - accuracy: 0.9949 - val_loss: 1.0237 - val_accuracy: 0.8144\n",
      "Epoch 24/30\n",
      "782/782 [==============================] - 10s 13ms/step - loss: 0.0099 - accuracy: 0.9970 - val_loss: 1.2404 - val_accuracy: 0.8073\n",
      "Epoch 25/30\n",
      "782/782 [==============================] - 10s 13ms/step - loss: 0.0110 - accuracy: 0.9966 - val_loss: 1.2220 - val_accuracy: 0.8149\n",
      "Epoch 26/30\n",
      "782/782 [==============================] - 10s 13ms/step - loss: 0.0141 - accuracy: 0.9961 - val_loss: 1.1024 - val_accuracy: 0.8147\n",
      "Epoch 27/30\n",
      "782/782 [==============================] - 11s 13ms/step - loss: 0.0126 - accuracy: 0.9962 - val_loss: 1.0430 - val_accuracy: 0.8082\n",
      "Epoch 28/30\n",
      "782/782 [==============================] - 10s 13ms/step - loss: 0.0084 - accuracy: 0.9978 - val_loss: 1.1973 - val_accuracy: 0.8101\n",
      "Epoch 29/30\n",
      "782/782 [==============================] - 11s 13ms/step - loss: 0.0141 - accuracy: 0.9958 - val_loss: 1.2355 - val_accuracy: 0.8133\n",
      "Epoch 30/30\n",
      "782/782 [==============================] - 10s 13ms/step - loss: 0.0152 - accuracy: 0.9957 - val_loss: 1.1563 - val_accuracy: 0.8139\n"
     ]
    },
    {
     "data": {
      "text/plain": [
       "<tensorflow.python.keras.callbacks.History at 0x7fdc50072ba8>"
      ]
     },
     "execution_count": 10,
     "metadata": {},
     "output_type": "execute_result"
    }
   ],
   "source": [
    "num_epochs = 30\n",
    "model.fit(padded,\n",
    "          training_labels_final,\n",
    "          epochs=num_epochs,\n",
    "          validation_data=(testing_padded, testing_labels_final))"
   ]
  },
  {
   "cell_type": "code",
   "execution_count": 7,
   "id": "aeea3ef4",
   "metadata": {},
   "outputs": [
    {
     "name": "stdout",
     "output_type": "stream",
     "text": [
      "Model: \"sequential\"\n",
      "_________________________________________________________________\n",
      "Layer (type)                 Output Shape              Param #   \n",
      "=================================================================\n",
      "embedding (Embedding)        (None, 120, 64)           640000    \n",
      "_________________________________________________________________\n",
      "bidirectional (Bidirectional (None, 120, 128)          66048     \n",
      "_________________________________________________________________\n",
      "bidirectional_1 (Bidirection (None, 64)                41216     \n",
      "_________________________________________________________________\n",
      "dense (Dense)                (None, 64)                4160      \n",
      "_________________________________________________________________\n",
      "dense_1 (Dense)              (None, 1)                 65        \n",
      "=================================================================\n",
      "Total params: 751,489\n",
      "Trainable params: 751,489\n",
      "Non-trainable params: 0\n",
      "_________________________________________________________________\n"
     ]
    }
   ],
   "source": [
    "embedding_dim = 64\n",
    "model = tf.keras.Sequential([\n",
    "    tf.keras.layers.Embedding(vocab_size, embedding_dim, input_length=max_length),\n",
    "    tf.keras.layers.Bidirectional(tf.keras.layers.LSTM(64, return_sequences=True)),\n",
    "    tf.keras.layers.Bidirectional(tf.keras.layers.LSTM(32)),\n",
    "    tf.keras.layers.Dense(64, activation='relu'),\n",
    "    tf.keras.layers.Dense(1, activation='sigmoid')\n",
    "])\n",
    "model.compile(loss='binary_crossentropy',optimizer='adam',metrics=['accuracy'])\n",
    "model.summary()"
   ]
  },
  {
   "cell_type": "code",
   "execution_count": 8,
   "id": "e28587cd",
   "metadata": {},
   "outputs": [
    {
     "name": "stdout",
     "output_type": "stream",
     "text": [
      "Epoch 1/30\n",
      "782/782 [==============================] - 23s 30ms/step - loss: 0.4444 - accuracy: 0.7892 - val_loss: 0.3955 - val_accuracy: 0.8304\n",
      "Epoch 2/30\n",
      "782/782 [==============================] - 24s 31ms/step - loss: 0.2784 - accuracy: 0.8886 - val_loss: 0.3789 - val_accuracy: 0.8473\n",
      "Epoch 3/30\n",
      "782/782 [==============================] - 25s 32ms/step - loss: 0.1896 - accuracy: 0.9286 - val_loss: 0.4144 - val_accuracy: 0.8269\n",
      "Epoch 4/30\n",
      "782/782 [==============================] - 24s 31ms/step - loss: 0.1142 - accuracy: 0.9575 - val_loss: 0.6712 - val_accuracy: 0.8136\n",
      "Epoch 5/30\n",
      "782/782 [==============================] - 25s 32ms/step - loss: 0.0709 - accuracy: 0.9761 - val_loss: 0.6247 - val_accuracy: 0.8133\n",
      "Epoch 6/30\n",
      "782/782 [==============================] - 26s 33ms/step - loss: 0.0539 - accuracy: 0.9807 - val_loss: 0.7486 - val_accuracy: 0.8276\n",
      "Epoch 7/30\n",
      "782/782 [==============================] - 26s 34ms/step - loss: 0.0316 - accuracy: 0.9896 - val_loss: 0.8338 - val_accuracy: 0.8186\n",
      "Epoch 8/30\n",
      "782/782 [==============================] - 25s 32ms/step - loss: 0.0422 - accuracy: 0.9850 - val_loss: 0.9403 - val_accuracy: 0.8185\n",
      "Epoch 9/30\n",
      "782/782 [==============================] - 27s 35ms/step - loss: 0.0210 - accuracy: 0.9929 - val_loss: 0.9844 - val_accuracy: 0.8171\n",
      "Epoch 10/30\n",
      "782/782 [==============================] - 26s 33ms/step - loss: 0.0172 - accuracy: 0.9941 - val_loss: 1.0379 - val_accuracy: 0.8009\n",
      "Epoch 11/30\n",
      "782/782 [==============================] - 26s 33ms/step - loss: 0.0180 - accuracy: 0.9940 - val_loss: 1.0720 - val_accuracy: 0.8065\n",
      "Epoch 12/30\n",
      "782/782 [==============================] - 26s 33ms/step - loss: 0.0150 - accuracy: 0.9950 - val_loss: 1.1998 - val_accuracy: 0.8193\n",
      "Epoch 13/30\n",
      "782/782 [==============================] - 26s 33ms/step - loss: 0.0131 - accuracy: 0.9959 - val_loss: 1.1677 - val_accuracy: 0.8119\n",
      "Epoch 14/30\n",
      "782/782 [==============================] - 26s 33ms/step - loss: 0.0159 - accuracy: 0.9944 - val_loss: 0.9984 - val_accuracy: 0.8043\n",
      "Epoch 15/30\n",
      "782/782 [==============================] - 28s 36ms/step - loss: 0.0109 - accuracy: 0.9963 - val_loss: 1.2478 - val_accuracy: 0.8143\n",
      "Epoch 16/30\n",
      "782/782 [==============================] - 29s 36ms/step - loss: 0.0118 - accuracy: 0.9959 - val_loss: 1.1864 - val_accuracy: 0.8170\n",
      "Epoch 17/30\n",
      "782/782 [==============================] - 27s 34ms/step - loss: 0.0091 - accuracy: 0.9972 - val_loss: 1.2386 - val_accuracy: 0.8082\n",
      "Epoch 18/30\n",
      "782/782 [==============================] - 27s 34ms/step - loss: 0.0104 - accuracy: 0.9966 - val_loss: 1.3883 - val_accuracy: 0.8115\n",
      "Epoch 19/30\n",
      "782/782 [==============================] - 27s 34ms/step - loss: 0.0080 - accuracy: 0.9971 - val_loss: 1.2610 - val_accuracy: 0.8120\n",
      "Epoch 20/30\n",
      "782/782 [==============================] - 27s 34ms/step - loss: 0.0090 - accuracy: 0.9973 - val_loss: 1.2392 - val_accuracy: 0.8112\n",
      "Epoch 21/30\n",
      "782/782 [==============================] - 27s 34ms/step - loss: 0.0055 - accuracy: 0.9983 - val_loss: 1.1948 - val_accuracy: 0.8155\n",
      "Epoch 22/30\n",
      "782/782 [==============================] - 27s 34ms/step - loss: 0.0043 - accuracy: 0.9989 - val_loss: 1.6589 - val_accuracy: 0.8138\n",
      "Epoch 23/30\n",
      "782/782 [==============================] - 27s 34ms/step - loss: 0.0099 - accuracy: 0.9970 - val_loss: 1.2104 - val_accuracy: 0.8194\n",
      "Epoch 24/30\n",
      "782/782 [==============================] - 27s 34ms/step - loss: 0.0058 - accuracy: 0.9979 - val_loss: 1.2916 - val_accuracy: 0.8134\n",
      "Epoch 25/30\n",
      "782/782 [==============================] - 27s 34ms/step - loss: 0.0050 - accuracy: 0.9982 - val_loss: 1.2919 - val_accuracy: 0.8059\n",
      "Epoch 26/30\n",
      "782/782 [==============================] - 27s 34ms/step - loss: 0.0045 - accuracy: 0.9988 - val_loss: 1.4909 - val_accuracy: 0.8126\n",
      "Epoch 27/30\n",
      "782/782 [==============================] - 31s 40ms/step - loss: 0.0036 - accuracy: 0.9988 - val_loss: 1.6837 - val_accuracy: 0.8124\n",
      "Epoch 28/30\n",
      "782/782 [==============================] - 28s 35ms/step - loss: 0.0034 - accuracy: 0.9989 - val_loss: 1.6243 - val_accuracy: 0.8183\n",
      "Epoch 29/30\n",
      "782/782 [==============================] - 28s 36ms/step - loss: 0.0062 - accuracy: 0.9982 - val_loss: 1.5025 - val_accuracy: 0.8103\n",
      "Epoch 30/30\n",
      "782/782 [==============================] - 28s 36ms/step - loss: 0.0017 - accuracy: 0.9996 - val_loss: 1.7028 - val_accuracy: 0.8151\n"
     ]
    },
    {
     "data": {
      "text/plain": [
       "<tensorflow.python.keras.callbacks.History at 0x7feb44250da0>"
      ]
     },
     "execution_count": 8,
     "metadata": {},
     "output_type": "execute_result"
    }
   ],
   "source": [
    "num_epochs = 30\n",
    "model.fit(padded,\n",
    "          training_labels_final,\n",
    "          epochs=num_epochs,\n",
    "          validation_data=(testing_padded, testing_labels_final))"
   ]
  },
  {
   "cell_type": "code",
   "execution_count": null,
   "id": "69f57ee6",
   "metadata": {},
   "outputs": [],
   "source": []
  }
 ],
 "metadata": {
  "kernelspec": {
   "display_name": "test",
   "language": "python",
   "name": "test"
  },
  "language_info": {
   "codemirror_mode": {
    "name": "ipython",
    "version": 3
   },
   "file_extension": ".py",
   "mimetype": "text/x-python",
   "name": "python",
   "nbconvert_exporter": "python",
   "pygments_lexer": "ipython3",
   "version": "3.7.2"
  }
 },
 "nbformat": 4,
 "nbformat_minor": 5
}
