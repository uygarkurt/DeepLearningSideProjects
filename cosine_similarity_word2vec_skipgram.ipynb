{
 "cells": [
  {
   "cell_type": "code",
   "execution_count": 1,
   "id": "b1f527fc",
   "metadata": {},
   "outputs": [],
   "source": [
    "import nltk\n",
    "import math\n",
    "import numpy as np\n",
    "from nltk.tokenize import sent_tokenize, word_tokenize\n",
    "import gensim\n",
    "from gensim.models import Word2Vec\n",
    "import numpy as np\n",
    "from sklearn.metrics.pairwise import cosine_similarity\n",
    "import matplotlib.pyplot as plt\n",
    "\n",
    "import warnings\n",
    "warnings.filterwarnings(action=\"ignore\")"
   ]
  },
  {
   "cell_type": "code",
   "execution_count": 3,
   "id": "816cb8d8",
   "metadata": {},
   "outputs": [
    {
     "name": "stdout",
     "output_type": "stream",
     "text": [
      "Word2Vec(vocab=10785, size=512, alpha=0.025)\n"
     ]
    }
   ],
   "source": [
    "sample = open(\"text.txt\", \"r\")\n",
    "s = sample.read()\n",
    "\n",
    "f = s.replace(\"\\n\", \" \")\n",
    "\n",
    "data = []\n",
    "\n",
    "for i in sent_tokenize(f):\n",
    "    temp = []\n",
    "    for j in word_tokenize(i):\n",
    "        temp.append(j.lower())\n",
    "    data.append(temp)\n",
    "\n",
    "model2 = gensim.models.Word2Vec(data, min_count=1, size=512, window=5, sg=1)\n",
    "print(model2)"
   ]
  },
  {
   "cell_type": "code",
   "execution_count": 6,
   "id": "daba3525",
   "metadata": {},
   "outputs": [],
   "source": [
    "def similarity(word1, word2):\n",
    "    cosine = False\n",
    "    try:\n",
    "        a = model2[word1]\n",
    "        cosine = True\n",
    "    except KeyError:\n",
    "        cosine = False\n",
    "        print(word2, \":[unk] key found!\")\n",
    "        \n",
    "    try:\n",
    "        b = model2[word2]\n",
    "    except KeyError:\n",
    "        cosine = False\n",
    "        print(word2, \":[unk] key found!\")\n",
    "        \n",
    "    if cosine==True:\n",
    "        b = model2[word2]\n",
    "        dot = np.dot(a, b)\n",
    "        norma = np.linalg.norm(a)\n",
    "        normb = np.linalg.norm(b)\n",
    "        \n",
    "        cos = dot / (norma * normb)\n",
    "        \n",
    "        aa = a.reshape(1, 512)\n",
    "        bb = b.reshape(1, 512)\n",
    "        \n",
    "        cos_lib = cosine_similarity(aa, bb)\n",
    "        \n",
    "    if cosine == False:\n",
    "        cos_lib = 0\n",
    "        \n",
    "    return cos_lib"
   ]
  },
  {
   "cell_type": "code",
   "execution_count": 7,
   "id": "f5392e0e",
   "metadata": {},
   "outputs": [
    {
     "name": "stdout",
     "output_type": "stream",
     "text": [
      "Similarity:  [[0.63188213]] freedom liberty\n"
     ]
    }
   ],
   "source": [
    "word1 = \"freedom\"\n",
    "word2 = \"liberty\"\n",
    "\n",
    "print(\"Similarity: \", similarity(word1, word2), word1, word2)"
   ]
  },
  {
   "cell_type": "code",
   "execution_count": 9,
   "id": "faec8e68",
   "metadata": {},
   "outputs": [
    {
     "name": "stdout",
     "output_type": "stream",
     "text": [
      "rights :[unk] key found!\n",
      "Similarity:  0 corporations rights\n"
     ]
    }
   ],
   "source": [
    "word1 = \"corporations\"\n",
    "word2 = \"rights\"\n",
    "\n",
    "print(\"Similarity: \", similarity(word1, word2), word1, word2)"
   ]
  }
 ],
 "metadata": {
  "kernelspec": {
   "display_name": "test",
   "language": "python",
   "name": "test"
  },
  "language_info": {
   "codemirror_mode": {
    "name": "ipython",
    "version": 3
   },
   "file_extension": ".py",
   "mimetype": "text/x-python",
   "name": "python",
   "nbconvert_exporter": "python",
   "pygments_lexer": "ipython3",
   "version": "3.7.2"
  }
 },
 "nbformat": 4,
 "nbformat_minor": 5
}
