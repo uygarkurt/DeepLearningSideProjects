{
 "cells": [
  {
   "cell_type": "code",
   "execution_count": 17,
   "id": "322c42c3",
   "metadata": {},
   "outputs": [],
   "source": [
    "import tensorflow as tf\n",
    "import os\n",
    "import io\n",
    "import pandas as pd\n",
    "import re\n",
    "from sklearn.model_selection import train_test_split"
   ]
  },
  {
   "cell_type": "code",
   "execution_count": 11,
   "id": "0b4be93c",
   "metadata": {},
   "outputs": [],
   "source": [
    "lines = io.open('./data/SMSSpamCollection').read().strip().split('\\n')\n",
    "\n",
    "spam_dataset = []\n",
    "spam_dataset = []\n",
    "count = 0\n",
    "for line in lines:\n",
    "    label, text = line.split('\\t')\n",
    "    if label.lower().strip() == 'spam':\n",
    "        spam_dataset.append((1, text.strip()))\n",
    "        count += 1\n",
    "    else:\n",
    "        spam_dataset.append(((0, text.strip())))\n",
    "        \n",
    "df = pd.DataFrame(spam_dataset, columns=['Spam', 'Message'])"
   ]
  },
  {
   "cell_type": "code",
   "execution_count": 14,
   "id": "ee4b5a91",
   "metadata": {},
   "outputs": [],
   "source": [
    "def message_length(x):\n",
    "    return len(x)\n",
    "\n",
    "def num_capitals(x):\n",
    "    _, count = re.subn(r'[A-Z]', '', x)\n",
    "    return count\n",
    "\n",
    "def num_punctuation(x):\n",
    "    _, count = re.subn(r'\\W', '', x)\n",
    "    return count"
   ]
  },
  {
   "cell_type": "code",
   "execution_count": 15,
   "id": "708a065f",
   "metadata": {},
   "outputs": [],
   "source": [
    "df['Capitals'] = df['Message'].apply(num_capitals)\n",
    "df['Punctuation'] = df['Message'].apply(num_punctuation)\n",
    "df['Length'] = df['Message'].apply(message_length)"
   ]
  },
  {
   "cell_type": "code",
   "execution_count": 16,
   "id": "76dcd8fc",
   "metadata": {},
   "outputs": [
    {
     "data": {
      "text/html": [
       "<div>\n",
       "<style scoped>\n",
       "    .dataframe tbody tr th:only-of-type {\n",
       "        vertical-align: middle;\n",
       "    }\n",
       "\n",
       "    .dataframe tbody tr th {\n",
       "        vertical-align: top;\n",
       "    }\n",
       "\n",
       "    .dataframe thead th {\n",
       "        text-align: right;\n",
       "    }\n",
       "</style>\n",
       "<table border=\"1\" class=\"dataframe\">\n",
       "  <thead>\n",
       "    <tr style=\"text-align: right;\">\n",
       "      <th></th>\n",
       "      <th>Spam</th>\n",
       "      <th>Message</th>\n",
       "      <th>Capitals</th>\n",
       "      <th>Punctuation</th>\n",
       "      <th>Length</th>\n",
       "    </tr>\n",
       "  </thead>\n",
       "  <tbody>\n",
       "    <tr>\n",
       "      <th>0</th>\n",
       "      <td>0</td>\n",
       "      <td>Go until jurong point, crazy.. Available only ...</td>\n",
       "      <td>3</td>\n",
       "      <td>28</td>\n",
       "      <td>111</td>\n",
       "    </tr>\n",
       "    <tr>\n",
       "      <th>1</th>\n",
       "      <td>0</td>\n",
       "      <td>Ok lar... Joking wif u oni...</td>\n",
       "      <td>2</td>\n",
       "      <td>11</td>\n",
       "      <td>29</td>\n",
       "    </tr>\n",
       "    <tr>\n",
       "      <th>2</th>\n",
       "      <td>1</td>\n",
       "      <td>Free entry in 2 a wkly comp to win FA Cup fina...</td>\n",
       "      <td>10</td>\n",
       "      <td>33</td>\n",
       "      <td>155</td>\n",
       "    </tr>\n",
       "    <tr>\n",
       "      <th>3</th>\n",
       "      <td>0</td>\n",
       "      <td>U dun say so early hor... U c already then say...</td>\n",
       "      <td>2</td>\n",
       "      <td>16</td>\n",
       "      <td>49</td>\n",
       "    </tr>\n",
       "    <tr>\n",
       "      <th>4</th>\n",
       "      <td>0</td>\n",
       "      <td>Nah I don't think he goes to usf, he lives aro...</td>\n",
       "      <td>2</td>\n",
       "      <td>14</td>\n",
       "      <td>61</td>\n",
       "    </tr>\n",
       "  </tbody>\n",
       "</table>\n",
       "</div>"
      ],
      "text/plain": [
       "   Spam                                            Message  Capitals  \\\n",
       "0     0  Go until jurong point, crazy.. Available only ...         3   \n",
       "1     0                      Ok lar... Joking wif u oni...         2   \n",
       "2     1  Free entry in 2 a wkly comp to win FA Cup fina...        10   \n",
       "3     0  U dun say so early hor... U c already then say...         2   \n",
       "4     0  Nah I don't think he goes to usf, he lives aro...         2   \n",
       "\n",
       "   Punctuation  Length  \n",
       "0           28     111  \n",
       "1           11      29  \n",
       "2           33     155  \n",
       "3           16      49  \n",
       "4           14      61  "
      ]
     },
     "execution_count": 16,
     "metadata": {},
     "output_type": "execute_result"
    }
   ],
   "source": [
    "df.head()"
   ]
  },
  {
   "cell_type": "code",
   "execution_count": 22,
   "id": "13c772cb",
   "metadata": {},
   "outputs": [],
   "source": [
    "train, test = train_test_split(df, test_size=0.2, random_state=0)\n",
    "\n",
    "X_train = train[['Length', 'Capitals', 'Punctuation']]\n",
    "y_train = train[['Spam']]\n",
    "\n",
    "X_test = test[['Length', 'Capitals', 'Punctuation']]\n",
    "y_test = test[['Spam']]"
   ]
  },
  {
   "cell_type": "code",
   "execution_count": 23,
   "id": "39066d77",
   "metadata": {},
   "outputs": [],
   "source": [
    "def make_model(input_dims=3, num_units=12):\n",
    "    model = tf.keras.Sequential()\n",
    "    model.add(tf.keras.layers.Dense(num_units,\n",
    "                                    input_dim=input_dims,\n",
    "                                    activation=\"relu\"))\n",
    "    \n",
    "    model.add(tf.keras.layers.Dense(1, activation=\"sigmoid\"))\n",
    "    model.compile(loss=\"binary_crossentropy\", optimizer=\"adam\", metrics=[\"accuracy\"])\n",
    "    \n",
    "    return model"
   ]
  },
  {
   "cell_type": "code",
   "execution_count": 24,
   "id": "eff7080f",
   "metadata": {},
   "outputs": [
    {
     "name": "stdout",
     "output_type": "stream",
     "text": [
      "Epoch 1/10\n",
      "446/446 [==============================] - 2s 670us/step - loss: 2.3165 - accuracy: 0.6750\n",
      "Epoch 2/10\n",
      "446/446 [==============================] - 0s 673us/step - loss: 0.3562 - accuracy: 0.9020\n",
      "Epoch 3/10\n",
      "446/446 [==============================] - 0s 670us/step - loss: 0.2791 - accuracy: 0.9242\n",
      "Epoch 4/10\n",
      "446/446 [==============================] - 0s 655us/step - loss: 0.2421 - accuracy: 0.9289\n",
      "Epoch 5/10\n",
      "446/446 [==============================] - 0s 650us/step - loss: 0.2265 - accuracy: 0.9338\n",
      "Epoch 6/10\n",
      "446/446 [==============================] - 0s 646us/step - loss: 0.2159 - accuracy: 0.9320\n",
      "Epoch 7/10\n",
      "446/446 [==============================] - 0s 657us/step - loss: 0.2084 - accuracy: 0.9323\n",
      "Epoch 8/10\n",
      "446/446 [==============================] - 0s 661us/step - loss: 0.2121 - accuracy: 0.9291\n",
      "Epoch 9/10\n",
      "446/446 [==============================] - 0s 694us/step - loss: 0.2018 - accuracy: 0.9325\n",
      "Epoch 10/10\n",
      "446/446 [==============================] - 0s 718us/step - loss: 0.2045 - accuracy: 0.9318\n"
     ]
    },
    {
     "data": {
      "text/plain": [
       "<keras.callbacks.History at 0x7f8507dc6b00>"
      ]
     },
     "execution_count": 24,
     "metadata": {},
     "output_type": "execute_result"
    }
   ],
   "source": [
    "model = make_model()\n",
    "model.fit(X_train, y_train, epochs=10, batch_size=10)"
   ]
  },
  {
   "cell_type": "code",
   "execution_count": 26,
   "id": "9085396e",
   "metadata": {},
   "outputs": [
    {
     "name": "stdout",
     "output_type": "stream",
     "text": [
      "35/35 [==============================] - 0s 641us/step - loss: 0.2102 - accuracy: 0.9283\n"
     ]
    },
    {
     "data": {
      "text/plain": [
       "[0.21024750173091888, 0.9282511472702026]"
      ]
     },
     "execution_count": 26,
     "metadata": {},
     "output_type": "execute_result"
    }
   ],
   "source": [
    "model.evaluate(X_test, y_test)"
   ]
  }
 ],
 "metadata": {
  "kernelspec": {
   "display_name": "test",
   "language": "python",
   "name": "test"
  },
  "language_info": {
   "codemirror_mode": {
    "name": "ipython",
    "version": 3
   },
   "file_extension": ".py",
   "mimetype": "text/x-python",
   "name": "python",
   "nbconvert_exporter": "python",
   "pygments_lexer": "ipython3",
   "version": "3.7.2"
  }
 },
 "nbformat": 4,
 "nbformat_minor": 5
}
