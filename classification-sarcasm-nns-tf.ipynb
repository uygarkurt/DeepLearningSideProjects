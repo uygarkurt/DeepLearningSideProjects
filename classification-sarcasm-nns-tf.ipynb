{
 "cells": [
  {
   "cell_type": "code",
   "execution_count": 1,
   "id": "78a10d34",
   "metadata": {},
   "outputs": [],
   "source": [
    "import json\n",
    "import numpy as np\n",
    "import tensorflow as tf\n",
    "from tensorflow.keras.preprocessing.text import Tokenizer\n",
    "from tensorflow.keras.preprocessing.sequence import pad_sequences"
   ]
  },
  {
   "cell_type": "code",
   "execution_count": 2,
   "id": "5e463fc6",
   "metadata": {},
   "outputs": [],
   "source": [
    "vocab_size = 10000\n",
    "embedding_dim = 16\n",
    "max_length = 100\n",
    "trunc_type = \"post\"\n",
    "padding_type = \"post\"\n",
    "oov_token = \"<OOV>\"\n",
    "training_size = 20000"
   ]
  },
  {
   "cell_type": "code",
   "execution_count": 3,
   "id": "6bc38ffc",
   "metadata": {},
   "outputs": [],
   "source": [
    "with open(\"./sarcasm.json\", \"r\") as f:\n",
    "    datastore = json.load(f)\n",
    "    \n",
    "sentences = []\n",
    "labels = []\n",
    "for item in datastore:\n",
    "    sentences.append(item[\"headline\"])\n",
    "    labels.append(item[\"is_sarcastic\"])"
   ]
  },
  {
   "cell_type": "code",
   "execution_count": 4,
   "id": "c7794fa3",
   "metadata": {},
   "outputs": [],
   "source": [
    "training_sentences = sentences[0:training_size]\n",
    "testing_sentences = sentences[training_size:]\n",
    "\n",
    "training_labels = labels[0:training_size]\n",
    "testing_labels = labels[training_size:]"
   ]
  },
  {
   "cell_type": "code",
   "execution_count": 5,
   "id": "dafbf1e7",
   "metadata": {},
   "outputs": [],
   "source": [
    "tokenizer = Tokenizer(num_words=vocab_size, oov_token = \"<OOV>\")\n",
    "tokenizer.fit_on_texts(training_sentences)\n",
    "word_index = tokenizer.word_index\n",
    "\n",
    "training_sequences = tokenizer.texts_to_sequences(training_sentences)\n",
    "training_padded = pad_sequences(training_sequences, padding=\"post\", maxlen=max_length, truncating=trunc_type)\n",
    "\n",
    "testing_sequences = tokenizer.texts_to_sequences(testing_sentences)\n",
    "testing_padded = pad_sequences(testing_sequences, padding=\"post\", maxlen=max_length, truncating=trunc_type)"
   ]
  },
  {
   "cell_type": "code",
   "execution_count": 6,
   "id": "d201a17d",
   "metadata": {},
   "outputs": [],
   "source": [
    "training_padded = np.array(training_padded)\n",
    "training_labels = np.array(training_labels)\n",
    "\n",
    "testing_padded = np.array(testing_padded)\n",
    "testing_labels = np.array(testing_labels)"
   ]
  },
  {
   "cell_type": "code",
   "execution_count": 7,
   "id": "35aea52e",
   "metadata": {},
   "outputs": [
    {
     "name": "stdout",
     "output_type": "stream",
     "text": [
      "Model: \"sequential\"\n",
      "_________________________________________________________________\n",
      "Layer (type)                 Output Shape              Param #   \n",
      "=================================================================\n",
      "embedding (Embedding)        (None, 100, 16)           160000    \n",
      "_________________________________________________________________\n",
      "flatten (Flatten)            (None, 1600)              0         \n",
      "_________________________________________________________________\n",
      "dense (Dense)                (None, 24)                38424     \n",
      "_________________________________________________________________\n",
      "dense_1 (Dense)              (None, 1)                 25        \n",
      "=================================================================\n",
      "Total params: 198,449\n",
      "Trainable params: 198,449\n",
      "Non-trainable params: 0\n",
      "_________________________________________________________________\n"
     ]
    }
   ],
   "source": [
    "model = tf.keras.Sequential([\n",
    "    tf.keras.layers.Embedding(vocab_size, embedding_dim, input_length=max_length),\n",
    "    tf.keras.layers.Flatten(),\n",
    "    tf.keras.layers.Dense(24, activation=\"relu\"),\n",
    "    tf.keras.layers.Dense(1, activation=\"sigmoid\")\n",
    "])\n",
    "model.compile(loss=\"binary_crossentropy\", optimizer=\"adam\", metrics=[\"accuracy\"])\n",
    "model.summary()"
   ]
  },
  {
   "cell_type": "code",
   "execution_count": 8,
   "id": "01c2964e",
   "metadata": {},
   "outputs": [
    {
     "name": "stdout",
     "output_type": "stream",
     "text": [
      "Epoch 1/30\n",
      "625/625 [==============================] - 2s 3ms/step - loss: 0.4470 - accuracy: 0.7673 - val_loss: 0.3189 - val_accuracy: 0.8614\n",
      "Epoch 2/30\n",
      "625/625 [==============================] - 2s 3ms/step - loss: 0.1975 - accuracy: 0.9246 - val_loss: 0.3201 - val_accuracy: 0.8644\n",
      "Epoch 3/30\n",
      "625/625 [==============================] - 2s 3ms/step - loss: 0.1039 - accuracy: 0.9651 - val_loss: 0.3750 - val_accuracy: 0.8599\n",
      "Epoch 4/30\n",
      "625/625 [==============================] - 2s 3ms/step - loss: 0.0486 - accuracy: 0.9859 - val_loss: 0.4709 - val_accuracy: 0.8515\n",
      "Epoch 5/30\n",
      "625/625 [==============================] - 2s 3ms/step - loss: 0.0208 - accuracy: 0.9960 - val_loss: 0.5205 - val_accuracy: 0.8486\n",
      "Epoch 6/30\n",
      "625/625 [==============================] - 2s 3ms/step - loss: 0.0097 - accuracy: 0.9988 - val_loss: 0.6040 - val_accuracy: 0.8484\n",
      "Epoch 7/30\n",
      "625/625 [==============================] - 2s 3ms/step - loss: 0.0057 - accuracy: 0.9992 - val_loss: 0.6358 - val_accuracy: 0.8492\n",
      "Epoch 8/30\n",
      "625/625 [==============================] - 2s 3ms/step - loss: 0.0035 - accuracy: 0.9995 - val_loss: 0.8673 - val_accuracy: 0.8299\n",
      "Epoch 9/30\n",
      "625/625 [==============================] - 2s 3ms/step - loss: 0.0032 - accuracy: 0.9994 - val_loss: 0.7284 - val_accuracy: 0.8530\n",
      "Epoch 10/30\n",
      "625/625 [==============================] - 2s 3ms/step - loss: 0.0021 - accuracy: 0.9995 - val_loss: 0.8533 - val_accuracy: 0.8420\n",
      "Epoch 11/30\n",
      "625/625 [==============================] - 2s 3ms/step - loss: 0.0016 - accuracy: 0.9995 - val_loss: 0.8039 - val_accuracy: 0.8492\n",
      "Epoch 12/30\n",
      "625/625 [==============================] - 2s 3ms/step - loss: 0.0019 - accuracy: 0.9995 - val_loss: 0.8571 - val_accuracy: 0.8495\n",
      "Epoch 13/30\n",
      "625/625 [==============================] - 2s 3ms/step - loss: 0.0015 - accuracy: 0.9997 - val_loss: 0.8876 - val_accuracy: 0.8465\n",
      "Epoch 14/30\n",
      "625/625 [==============================] - 2s 3ms/step - loss: 0.0018 - accuracy: 0.9992 - val_loss: 0.9438 - val_accuracy: 0.8466\n",
      "Epoch 15/30\n",
      "625/625 [==============================] - 2s 3ms/step - loss: 0.0015 - accuracy: 0.9995 - val_loss: 0.9762 - val_accuracy: 0.8463\n",
      "Epoch 16/30\n",
      "625/625 [==============================] - 2s 3ms/step - loss: 0.0011 - accuracy: 0.9997 - val_loss: 0.9883 - val_accuracy: 0.8456\n",
      "Epoch 17/30\n",
      "625/625 [==============================] - 2s 3ms/step - loss: 0.0012 - accuracy: 0.9995 - val_loss: 1.0339 - val_accuracy: 0.8463\n",
      "Epoch 18/30\n",
      "625/625 [==============================] - 2s 3ms/step - loss: 9.5780e-04 - accuracy: 0.9998 - val_loss: 1.0433 - val_accuracy: 0.8430\n",
      "Epoch 19/30\n",
      "625/625 [==============================] - 2s 3ms/step - loss: 0.0011 - accuracy: 0.9997 - val_loss: 1.0830 - val_accuracy: 0.8423\n",
      "Epoch 20/30\n",
      "625/625 [==============================] - 2s 3ms/step - loss: 0.0012 - accuracy: 0.9996 - val_loss: 1.0846 - val_accuracy: 0.8450\n",
      "Epoch 21/30\n",
      "625/625 [==============================] - 2s 3ms/step - loss: 0.0012 - accuracy: 0.9996 - val_loss: 1.2039 - val_accuracy: 0.8396\n",
      "Epoch 22/30\n",
      "625/625 [==============================] - 2s 3ms/step - loss: 9.3617e-04 - accuracy: 0.9996 - val_loss: 1.1465 - val_accuracy: 0.8439\n",
      "Epoch 23/30\n",
      "625/625 [==============================] - 2s 3ms/step - loss: 0.0012 - accuracy: 0.9996 - val_loss: 1.1436 - val_accuracy: 0.8472\n",
      "Epoch 24/30\n",
      "625/625 [==============================] - 2s 3ms/step - loss: 0.0012 - accuracy: 0.9996 - val_loss: 1.1473 - val_accuracy: 0.8426\n",
      "Epoch 25/30\n",
      "625/625 [==============================] - 2s 3ms/step - loss: 7.8159e-04 - accuracy: 0.9997 - val_loss: 1.2402 - val_accuracy: 0.8368\n",
      "Epoch 26/30\n",
      "625/625 [==============================] - 2s 3ms/step - loss: 7.5092e-04 - accuracy: 0.9998 - val_loss: 1.2539 - val_accuracy: 0.8410\n",
      "Epoch 27/30\n",
      "625/625 [==============================] - 2s 3ms/step - loss: 0.0011 - accuracy: 0.9995 - val_loss: 1.2721 - val_accuracy: 0.8423\n",
      "Epoch 28/30\n",
      "625/625 [==============================] - 2s 3ms/step - loss: 6.7764e-04 - accuracy: 0.9998 - val_loss: 1.2169 - val_accuracy: 0.8399\n",
      "Epoch 29/30\n",
      "625/625 [==============================] - 2s 3ms/step - loss: 7.1993e-04 - accuracy: 0.9998 - val_loss: 1.2562 - val_accuracy: 0.8432\n",
      "Epoch 30/30\n",
      "625/625 [==============================] - 2s 3ms/step - loss: 0.0011 - accuracy: 0.9997 - val_loss: 1.2146 - val_accuracy: 0.8392\n"
     ]
    }
   ],
   "source": [
    "num_epochs = 30\n",
    "history = model.fit(training_padded,\n",
    "                    training_labels,\n",
    "                    epochs=num_epochs,\n",
    "                    validation_data=(testing_padded, testing_labels))"
   ]
  },
  {
   "cell_type": "code",
   "execution_count": null,
   "id": "6d7cd22a",
   "metadata": {},
   "outputs": [],
   "source": []
  }
 ],
 "metadata": {
  "kernelspec": {
   "display_name": "test",
   "language": "python",
   "name": "test"
  },
  "language_info": {
   "codemirror_mode": {
    "name": "ipython",
    "version": 3
   },
   "file_extension": ".py",
   "mimetype": "text/x-python",
   "name": "python",
   "nbconvert_exporter": "python",
   "pygments_lexer": "ipython3",
   "version": "3.7.2"
  }
 },
 "nbformat": 4,
 "nbformat_minor": 5
}
