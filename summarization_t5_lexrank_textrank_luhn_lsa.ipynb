{
 "cells": [
  {
   "cell_type": "code",
   "execution_count": 3,
   "id": "c90baf90",
   "metadata": {},
   "outputs": [],
   "source": [
    "import nltk\n",
    "from sumy.parsers.html import HtmlParser\n",
    "from sumy.nlp.tokenizers import Tokenizer\n",
    "from sumy.summarizers.text_rank import TextRankSummarizer\n",
    "from sumy.summarizers.lex_rank import LexRankSummarizer\n",
    "from sumy.summarizers.luhn import LuhnSummarizer\n",
    "from sumy.summarizers.lsa import LsaSummarizer"
   ]
  },
  {
   "cell_type": "code",
   "execution_count": 4,
   "id": "a625ccf7",
   "metadata": {},
   "outputs": [],
   "source": [
    "num_sentences_in_summary=2\n",
    "url=\"https://en.wikipedia.org/wiki/Automatic_summarization\"\n",
    "parser=HtmlParser.from_url(url, Tokenizer(\"english\"))"
   ]
  },
  {
   "cell_type": "code",
   "execution_count": 5,
   "id": "9e97b5fe",
   "metadata": {},
   "outputs": [],
   "source": [
    "summarizer_list=(\"TextRankSummarizer:\", \"LexRankSummarizer:\", \n",
    "                 \"LuhnSummarizer:\", \"LsaSummarizer\")\n",
    "\n",
    "summarizers=[TextRankSummarizer(), LexRankSummarizer(),\n",
    "             LuhnSummarizer(), LsaSummarizer()]"
   ]
  },
  {
   "cell_type": "code",
   "execution_count": 6,
   "id": "b2d5cb3d",
   "metadata": {},
   "outputs": [
    {
     "name": "stdout",
     "output_type": "stream",
     "text": [
      "TextRankSummarizer:\n",
      "For text, extraction is analogous to the process of skimming, where the summary (if available), headings and subheadings, figures, the first and last paragraphs of a section, and optionally the first and last sentences in a paragraph are read before one chooses to read the entire document in detail.\n",
      "Once the graph is constructed, it is used to form a stochastic matrix, combined with a damping factor (as in the \"random surfer model\"), and the ranking over vertices is obtained by finding the eigenvector corresponding to eigenvalue 1 (i.e., the stationary distribution of the random walk on the graph).\n",
      "------------------------------\n",
      "LexRankSummarizer:\n",
      "An example of a summarization problem is document summarization, which attempts to automatically produce an abstract from a given document.\n",
      "The main difficulty in supervised extractive summarization is that the known summaries must be manually created by extracting sentences so the sentences in an original training document can be labeled as \"in summary\" or \"not in summary\".\n",
      "------------------------------\n",
      "LuhnSummarizer:\n",
      "This tool does not use word frequency, does not need training or preprocessing of any kind and works by generating ideograms that represent the meaning of each sentence and then summarizes using two user-supplied parameters: equivalence (when are two sentences to be considered equivalent) and relevance (how long is the desired summary).\n",
      "A Class of Submodular Functions for Document Summarization \", The 49th Annual Meeting of the Association for Computational Linguistics: Human Language Technologies (ACL-HLT), 2011 ^ Sebastian Tschiatschek, Rishabh Iyer, Hoachen Wei and Jeff Bilmes, Learning Mixtures of Submodular Functions for Image Collection Summarization , In Advances of Neural Information Processing Systems (NIPS), Montreal, Canada, December - 2014.\n",
      "------------------------------\n",
      "LsaSummarizer\n",
      "Hulth uses a reduced set of features, which were found most successful in the KEA (Keyphrase Extraction Algorithm) work derived from Turney’s seminal paper.\n",
      "Although they did not replace other approaches and are often combined with them, by 2019 machine learning methods dominated the extractive summarization of single documents, which was considered to be nearing maturity.\n",
      "------------------------------\n"
     ]
    }
   ],
   "source": [
    "for i, summarizer in enumerate(summarizers):\n",
    "    print(summarizer_list[i])\n",
    "    for sentence in summarizer(parser.document, num_sentences_in_summary):\n",
    "        print((sentence))\n",
    "    \n",
    "    print(\"-\"*30)"
   ]
  },
  {
   "cell_type": "code",
   "execution_count": 1,
   "id": "74c985f5",
   "metadata": {},
   "outputs": [
    {
     "name": "stdout",
     "output_type": "stream",
     "text": [
      "Summary:\n",
      " However, part-of-speech tagging introduced the use of hidden Markov models to natural language processing, and increasingly, research has focused on statistical models, which make soft, probabilistic decisions based on attaching real-valued weights to the features making up the input data.\n",
      "In the 2010s, representation learning and deep neural network-style machine learning methods became widespread in natural language processing, due in part to a flurry of results showing that such techniques[4][5] can achieve state-of-the-art results in many natural language tasks, for example in language modeling,[6] parsing,[7][8] and many others.\n"
     ]
    }
   ],
   "source": [
    "from summa import summarizer\n",
    "from summa import keywords\n",
    "\n",
    "text=open(\"nlphistory.txt\").read()\n",
    "\n",
    "print(\"Summary:\\n\", summarizer.summarize(text, ratio=0.1))"
   ]
  },
  {
   "cell_type": "code",
   "execution_count": 1,
   "id": "087e1e29",
   "metadata": {},
   "outputs": [],
   "source": [
    "import torch\n",
    "from transformers import T5Tokenizer, T5ForConditionalGeneration, T5Config"
   ]
  },
  {
   "cell_type": "code",
   "execution_count": 2,
   "id": "81a078cf",
   "metadata": {},
   "outputs": [],
   "source": [
    "device=\"cpu\"\n",
    "\n",
    "model=T5ForConditionalGeneration.from_pretrained(\"t5-small\").to(device)\n",
    "tokenizer=T5Tokenizer.from_pretrained(\"t5-small\")"
   ]
  },
  {
   "cell_type": "code",
   "execution_count": 3,
   "id": "a17b143c",
   "metadata": {},
   "outputs": [],
   "source": [
    "text =\"\"\"\n",
    "don’t build your own MT system if you don’t have to. It is more practical to make use of the translation APIs. When we use such APIs, it is important to pay closer attention to pricing policies. It would perhaps make sense to store the translations of frequently used text (called a translation memory or a translation cache). \n",
    "\n",
    "If you’re working with a entirely new language, or say a new domain where existing translation APIs do poorly, it would make sense to start with a domain knowledge based rule based translation system addressing the restricted scenario you deal with. Another approach to address such data scarce scenarios is to augment your training data by doing “back translation”. Let us say we want to translate from English to Navajo language. English is a popular language for MT, but Navajo is not. We do have a few examples of English-Navajo translation. In such a case, one can build a first MT model between Navajo-English, and use this system to translate a few Navajo sentences into English. At this point, these machine translated Navajo-English pairs can be added as additional training data to English-Navajo MT system. This results in a translation system with more examples to train on (even though some of these examples are synthetic). In general, though, if accuracy of translation is paramount, it would perhaps make sense to form a hybrid MT system which combines the neural models with rules and some form of post-processing, though. \n",
    "\n",
    "\"\"\""
   ]
  },
  {
   "cell_type": "code",
   "execution_count": 4,
   "id": "8790c94f",
   "metadata": {},
   "outputs": [],
   "source": [
    "preprocessed_text=text.strip().replace(\"\\n\", \"\")\n",
    "t5_prepared_Text=\"summarize: \"+preprocessed_text\n",
    "\n",
    "tokenized_text=tokenizer.encode(t5_prepared_Text, \n",
    "                                return_tensors=\"pt\", \n",
    "                                max_length=600, \n",
    "                                padding=True).to(device)"
   ]
  },
  {
   "cell_type": "code",
   "execution_count": 7,
   "id": "62e394a1",
   "metadata": {},
   "outputs": [],
   "source": [
    "summary_ids=model.generate(tokenized_text,\n",
    "                           num_beams=4,\n",
    "                           no_repeat_ngram_size=2,\n",
    "                           min_length=100,\n",
    "                           max_length=200,\n",
    "                           early_stopping=True)"
   ]
  },
  {
   "cell_type": "code",
   "execution_count": 8,
   "id": "aa196be3",
   "metadata": {},
   "outputs": [
    {
     "name": "stdout",
     "output_type": "stream",
     "text": [
      "Summarized text: \n",
      " it is more practical to make use of the translation APIs. if you’re working with a completely new language, it would make sense to store translations of frequently used text (called translation memory or translation cache) the MT system combines the neural models with rules and some form of post-processing, though, as well as the syntax of tumblr and Navajo. the system is based on the language used by the translators.\n"
     ]
    }
   ],
   "source": [
    "output=tokenizer.decode(summary_ids[0], skip_special_tokens=True)\n",
    "print(\"Summarized text: \\n\", output)"
   ]
  }
 ],
 "metadata": {
  "kernelspec": {
   "display_name": "test",
   "language": "python",
   "name": "test"
  },
  "language_info": {
   "codemirror_mode": {
    "name": "ipython",
    "version": 3
   },
   "file_extension": ".py",
   "mimetype": "text/x-python",
   "name": "python",
   "nbconvert_exporter": "python",
   "pygments_lexer": "ipython3",
   "version": "3.7.2"
  }
 },
 "nbformat": 4,
 "nbformat_minor": 5
}
