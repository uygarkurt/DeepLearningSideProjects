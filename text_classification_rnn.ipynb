{
 "cells": [
  {
   "cell_type": "code",
   "execution_count": 21,
   "id": "f6b31791",
   "metadata": {},
   "outputs": [],
   "source": [
    "import os\n",
    "import numpy as np\n",
    "os.environ['TF_CPP_MIN_LOG_LEVEL'] = '3'\n",
    "\n",
    "import tensorflow as tf\n",
    "from tensorflow.keras.layers import Dense\n",
    "from tensorflow.keras.models import Sequential\n",
    "from tensorflow.keras.utils import to_categorical\n",
    "from tensorflow.keras.initializers import Constant\n",
    "from tensorflow.keras.layers import LSTM, Embedding\n",
    "from tensorflow.keras.preprocessing.text import Tokenizer\n",
    "from tensorflow.keras.preprocessing.sequence import pad_sequences"
   ]
  },
  {
   "cell_type": "code",
   "execution_count": 22,
   "id": "98877ed6",
   "metadata": {},
   "outputs": [
    {
     "name": "stdout",
     "output_type": "stream",
     "text": [
      "Setting random seed\n",
      "Using GPU..\n"
     ]
    }
   ],
   "source": [
    "print(\"Setting random seed\")\n",
    "np.random.seed(0)\n",
    "if(tf.config.list_physical_devices('GPU')):\n",
    "    print(\"Using GPU..\")\n",
    "else:\n",
    "    print(\"Using CPU..\")"
   ]
  },
  {
   "cell_type": "code",
   "execution_count": 23,
   "id": "8623a2a3",
   "metadata": {},
   "outputs": [],
   "source": [
    "GLOVE_DIR=os.path.abspath(\"./glove\")\n",
    "TRAIN_DATA_DIR=os.path.abspath(\"./aclImdb/train\")\n",
    "TEST_DATA_DIR=os.path.abspath(\"./aclImdb/test\")"
   ]
  },
  {
   "cell_type": "code",
   "execution_count": 24,
   "id": "68fc34ed",
   "metadata": {},
   "outputs": [],
   "source": [
    "MAX_SEQUENCE_LENGTH=1000\n",
    "MAX_NUM_WORDS=20000\n",
    "EMBEDDING_DIM=100\n",
    "VALIDATION_SPLIT=0.2"
   ]
  },
  {
   "cell_type": "code",
   "execution_count": 25,
   "id": "bc7a8bef",
   "metadata": {},
   "outputs": [],
   "source": [
    "def get_data(data_dir):\n",
    "    texts = []\n",
    "    labels_index = {'pos':1, 'neg':0}\n",
    "    labels = []\n",
    "    for name in sorted(os.listdir(data_dir)):\n",
    "        path = os.path.join(data_dir, name)\n",
    "        if os.path.isdir(path):\n",
    "            if name=='pos' or name=='neg':\n",
    "                label_id = labels_index[name]\n",
    "                for fname in sorted(os.listdir(path)):\n",
    "                        fpath = os.path.join(path, fname)\n",
    "                        text = open(fpath,encoding='utf8').read()\n",
    "                        texts.append(text)\n",
    "                        labels.append(label_id)\n",
    "    return texts, labels\n",
    "\n",
    "train_texts, train_labels = get_data(TRAIN_DATA_DIR)\n",
    "test_texts, test_labels = get_data(TEST_DATA_DIR)\n",
    "labels_index = {'pos':1, 'neg':0} "
   ]
  },
  {
   "cell_type": "code",
   "execution_count": 26,
   "id": "7f39d850",
   "metadata": {},
   "outputs": [
    {
     "name": "stdout",
     "output_type": "stream",
     "text": [
      "Story of a man who has unnatural feelings for a pig. Starts out with a opening scene that is a terrific example of absurd comedy. A formal orchestra audience is turned into an insane, violent mob by the crazy chantings of it's singers. Unfortunately it stays absurd the WHOLE time with no general narrative eventually making it just too off putting. Even those from the era should be turned off. The cryptic dialogue would make Shakespeare seem easy to a third grader. On a technical level it's better than you might think with some good cinematography by future great Vilmos Zsigmond. Future stars Sally Kirkland and Frederic Forrest can be seen briefly.\n",
      "0\n",
      "------------\n",
      "I've seen this story before but my kids haven't. Boy with troubled past joins military, faces his past, falls in love and becomes a man. The mentor this time is played perfectly by Kevin Costner; An ordinary man with common everyday problems who lives an extraordinary conviction, to save lives. After losing his team he takes a teaching position training the next generation of heroes. The young troubled recruit is played by Kutcher. While his scenes with the local love interest are a tad stiff and don't generate enough heat to melt butter, he compliments Costner well. I never really understood Sela Ward as the neglected wife and felt she should of wanted Costner to quit out of concern for his safety as opposed to her selfish needs. But her presence on screen is a pleasure. The two unaccredited stars of this movie are the Coast Guard and the Sea. Both powerful forces which should not be taken for granted in real life or this movie. The movie has some slow spots and could have used the wasted 15 minutes to strengthen the character relationships. But it still works. The rescue scenes are intense and well filmed and edited to provide maximum impact. This movie earns the audience applause. And the applause of my two sons.\n",
      "1\n"
     ]
    }
   ],
   "source": [
    "print(train_texts[0])\n",
    "print(train_labels[0])\n",
    "print(\"------------\")\n",
    "print(test_texts[24999])\n",
    "print(test_labels[24999])"
   ]
  },
  {
   "cell_type": "code",
   "execution_count": 27,
   "id": "ef438f11",
   "metadata": {},
   "outputs": [
    {
     "name": "stdout",
     "output_type": "stream",
     "text": [
      "Number of unique tokens: 88582\n"
     ]
    }
   ],
   "source": [
    "tokenizer=Tokenizer(num_words=MAX_NUM_WORDS)\n",
    "tokenizer.fit_on_texts(train_texts)\n",
    "\n",
    "train_sequences=tokenizer.texts_to_sequences(train_texts)\n",
    "test_sequences=tokenizer.texts_to_sequences(test_texts)\n",
    "\n",
    "word_index=tokenizer.word_index\n",
    "print(f\"Number of unique tokens: {len(word_index)}\")"
   ]
  },
  {
   "cell_type": "code",
   "execution_count": 28,
   "id": "7090ab6a",
   "metadata": {},
   "outputs": [
    {
     "name": "stdout",
     "output_type": "stream",
     "text": [
      "Splitting train data into train and validation is done\n"
     ]
    }
   ],
   "source": [
    "trainvalid_data=pad_sequences(train_sequences, maxlen=MAX_SEQUENCE_LENGTH)\n",
    "test_data=pad_sequences(test_sequences, maxlen=MAX_SEQUENCE_LENGTH)\n",
    "\n",
    "trainvalid_labels=to_categorical(np.asarray(train_labels))\n",
    "test_labels=to_categorical(np.asarray(test_labels))\n",
    "\n",
    "indices=np.arange(trainvalid_data.shape[0])\n",
    "np.random.shuffle(indices)\n",
    "\n",
    "trainvalid_data=trainvalid_data[indices]\n",
    "trainvalid_labels=trainvalid_labels[indices]\n",
    "\n",
    "num_validation_samples=int(VALIDATION_SPLIT*trainvalid_data.shape[0])\n",
    "\n",
    "X_train=trainvalid_data[:-num_validation_samples]\n",
    "y_train=trainvalid_labels[:-num_validation_samples]\n",
    "\n",
    "x_val=trainvalid_data[-num_validation_samples:]\n",
    "y_val=trainvalid_labels[-num_validation_samples:]\n",
    "\n",
    "print(\"Splitting train data into train and validation is done\")"
   ]
  },
  {
   "cell_type": "code",
   "execution_count": 29,
   "id": "15595309",
   "metadata": {},
   "outputs": [
    {
     "name": "stdout",
     "output_type": "stream",
     "text": [
      "Preparing embedding matrix\n",
      "Found 400000 word vectors in Glove embeddings.\n",
      "Preparing of embedding matrix is done\n"
     ]
    }
   ],
   "source": [
    "print('Preparing embedding matrix')\n",
    "\n",
    "embeddings_index = {}\n",
    "with open(os.path.join(GLOVE_DIR, 'glove.6B.100d.txt'),encoding='utf8') as f:\n",
    "    for line in f:\n",
    "        values = line.split()\n",
    "        word = values[0]\n",
    "        coefs = np.asarray(values[1:], dtype='float32')\n",
    "        embeddings_index[word] = coefs\n",
    "\n",
    "print('Found %s word vectors in Glove embeddings.' % len(embeddings_index))\n",
    "\n",
    "num_words = min(MAX_NUM_WORDS, len(word_index)) + 1\n",
    "embedding_matrix=np.zeros((num_words, EMBEDDING_DIM))\n",
    "\n",
    "for word, i in word_index.items():\n",
    "    if i > MAX_NUM_WORDS:\n",
    "        continue\n",
    "    embedding_vector = embeddings_index.get(word)\n",
    "    if embedding_vector is not None:\n",
    "        embedding_matrix[i] = embedding_vector\n",
    "        \n",
    "embedding_layer=Embedding(num_words,\n",
    "                          EMBEDDING_DIM,\n",
    "                          embeddings_initializer=Constant(embedding_matrix),\n",
    "                          input_length=MAX_SEQUENCE_LENGTH,\n",
    "                          trainable=False)\n",
    "\n",
    "print(\"Preparing of embedding matrix is done\")"
   ]
  },
  {
   "cell_type": "code",
   "execution_count": 30,
   "id": "7cead17c",
   "metadata": {},
   "outputs": [
    {
     "name": "stdout",
     "output_type": "stream",
     "text": [
      "Define LSTM model\n",
      "WARNING:tensorflow:Layer lstm_2 will not use cuDNN kernel since it doesn't meet the cuDNN kernel criteria. It will use generic GPU kernel as fallback when running on GPU\n",
      "Epoch 1/20\n",
      "79/79 [==============================] - 131s 2s/step - loss: 0.6362 - accuracy: 0.6348 - val_loss: 0.5379 - val_accuracy: 0.7422\n",
      "Epoch 2/20\n",
      "79/79 [==============================] - 144s 2s/step - loss: 0.5030 - accuracy: 0.7611 - val_loss: 0.4536 - val_accuracy: 0.7946\n",
      "Epoch 3/20\n",
      "79/79 [==============================] - 147s 2s/step - loss: 0.4812 - accuracy: 0.7735 - val_loss: 0.6283 - val_accuracy: 0.7720\n",
      "Epoch 4/20\n",
      "79/79 [==============================] - 149s 2s/step - loss: 0.4788 - accuracy: 0.7778 - val_loss: 0.4429 - val_accuracy: 0.7990\n",
      "Epoch 5/20\n",
      "79/79 [==============================] - 156s 2s/step - loss: 0.4167 - accuracy: 0.8119 - val_loss: 0.3924 - val_accuracy: 0.8294\n",
      "Epoch 6/20\n",
      "79/79 [==============================] - 163s 2s/step - loss: 0.4004 - accuracy: 0.8232 - val_loss: 0.3753 - val_accuracy: 0.8310\n",
      "Epoch 7/20\n",
      "79/79 [==============================] - 174s 2s/step - loss: 0.3722 - accuracy: 0.8389 - val_loss: 0.3507 - val_accuracy: 0.8462\n",
      "Epoch 8/20\n",
      "79/79 [==============================] - 174s 2s/step - loss: 0.3461 - accuracy: 0.8525 - val_loss: 0.3484 - val_accuracy: 0.8542\n",
      "Epoch 9/20\n",
      "79/79 [==============================] - 177s 2s/step - loss: 0.3293 - accuracy: 0.8594 - val_loss: 0.3279 - val_accuracy: 0.8604\n",
      "Epoch 10/20\n",
      "79/79 [==============================] - 184s 2s/step - loss: 0.3164 - accuracy: 0.8665 - val_loss: 0.3196 - val_accuracy: 0.8618\n",
      "Epoch 11/20\n",
      "79/79 [==============================] - 185s 2s/step - loss: 0.3054 - accuracy: 0.8723 - val_loss: 0.3116 - val_accuracy: 0.8696\n",
      "Epoch 12/20\n",
      "79/79 [==============================] - 192s 2s/step - loss: 0.2960 - accuracy: 0.8753 - val_loss: 0.3012 - val_accuracy: 0.8704\n",
      "Epoch 13/20\n",
      "79/79 [==============================] - 194s 2s/step - loss: 0.2778 - accuracy: 0.8864 - val_loss: 0.3306 - val_accuracy: 0.8648\n",
      "Epoch 14/20\n",
      "79/79 [==============================] - 185s 2s/step - loss: 0.2745 - accuracy: 0.8862 - val_loss: 0.2985 - val_accuracy: 0.8770\n",
      "Epoch 15/20\n",
      "79/79 [==============================] - 196s 2s/step - loss: 0.2631 - accuracy: 0.8917 - val_loss: 0.2845 - val_accuracy: 0.8828\n",
      "Epoch 16/20\n",
      "79/79 [==============================] - 208s 3s/step - loss: 0.2668 - accuracy: 0.8908 - val_loss: 0.3044 - val_accuracy: 0.8794\n",
      "Epoch 17/20\n",
      "79/79 [==============================] - 210s 3s/step - loss: 0.2523 - accuracy: 0.8985 - val_loss: 0.2813 - val_accuracy: 0.8828\n",
      "Epoch 18/20\n",
      "79/79 [==============================] - 216s 3s/step - loss: 0.2408 - accuracy: 0.9025 - val_loss: 0.2890 - val_accuracy: 0.8814\n",
      "Epoch 19/20\n",
      "79/79 [==============================] - 195s 2s/step - loss: 0.2393 - accuracy: 0.9028 - val_loss: 0.2913 - val_accuracy: 0.8860\n",
      "Epoch 20/20\n",
      "79/79 [==============================] - 189s 2s/step - loss: 0.2286 - accuracy: 0.9075 - val_loss: 0.2811 - val_accuracy: 0.8842\n",
      "196/196 [==============================] - 59s 303ms/step - loss: 0.2694 - accuracy: 0.8876\n",
      "Test accuracy with RNN: 0.8876000046730042\n"
     ]
    }
   ],
   "source": [
    "print(\"Define LSTM model\")\n",
    "\n",
    "rnnmodel=Sequential()\n",
    "rnnmodel.add(embedding_layer)\n",
    "\n",
    "rnnmodel.add(LSTM(128, dropout=0.2, recurrent_dropout=0.2))\n",
    "rnnmodel.add(Dense(2, activation=\"softmax\"))\n",
    "\n",
    "rnnmodel.compile(loss=\"binary_crossentropy\",\n",
    "                 optimizer=\"adam\",\n",
    "                 metrics=[\"accuracy\"])\n",
    "\n",
    "rnnmodel.fit(X_train, y_train,\n",
    "             batch_size=256,\n",
    "             epochs=20,\n",
    "             validation_data=(x_val, y_val))\n",
    "\n",
    "score, acc=rnnmodel.evaluate(test_data, test_labels, batch_size=128)\n",
    "print(f\"Test accuracy with RNN: {acc}\")"
   ]
  },
  {
   "cell_type": "code",
   "execution_count": null,
   "id": "3f60e2b1",
   "metadata": {},
   "outputs": [],
   "source": [
    "print(\"Define LSTM model. Training embedding layer on the fly.\")\n",
    "\n",
    "rnnmodel=Sequential()\n",
    "rnnmodel.add(Embedding(MAX_NUM_WORDS, 128))\n",
    "\n",
    "rnnmodel.add(LSTM(128, dropout=0.2, recurrent_dropout=0.2))\n",
    "rnnmodel.add(Dense(2, activation=\"sigmoid\"))\n",
    "\n",
    "rnnmodel.compile(loss=\"binary_crossentropy\",\n",
    "                 optimizer=\"adam\",\n",
    "                 metrics=[\"accuracy\"])\n",
    "\n",
    "rnnmodel.fit(X_train, y_train,\n",
    "             batch_size=128,\n",
    "             epochs=20,\n",
    "             validation_data=(x_val, y_val))\n",
    "\n",
    "score, acc=rnnmodel.evaluate(test_data, test_labels, batch_size=128)\n",
    "print(f\"Test accuracy with RNN: {acc}\")"
   ]
  },
  {
   "cell_type": "code",
   "execution_count": 50,
   "id": "f9588495",
   "metadata": {},
   "outputs": [
    {
     "name": "stdout",
     "output_type": "stream",
     "text": [
      "Inference result for the text: I did love the movie\n",
      "[1]\n"
     ]
    }
   ],
   "source": [
    "text=[\"I did love the movie\"]\n",
    "print(f\"Inference result for the text: {text[0]}\")\n",
    "\n",
    "inference_sequence=tokenizer.texts_to_sequences(text)\n",
    "inference_data=pad_sequences(inference_sequence, maxlen=MAX_SEQUENCE_LENGTH)\n",
    "\n",
    "predictions=rnnmodel.predict(inference_data)\n",
    "class_result=np.argmax(predictions, axis=-1)\n",
    "\n",
    "print(class_result)"
   ]
  },
  {
   "cell_type": "code",
   "execution_count": null,
   "id": "e4a3fa47",
   "metadata": {},
   "outputs": [],
   "source": []
  }
 ],
 "metadata": {
  "kernelspec": {
   "display_name": "test",
   "language": "python",
   "name": "test"
  },
  "language_info": {
   "codemirror_mode": {
    "name": "ipython",
    "version": 3
   },
   "file_extension": ".py",
   "mimetype": "text/x-python",
   "name": "python",
   "nbconvert_exporter": "python",
   "pygments_lexer": "ipython3",
   "version": "3.7.2"
  }
 },
 "nbformat": 4,
 "nbformat_minor": 5
}
