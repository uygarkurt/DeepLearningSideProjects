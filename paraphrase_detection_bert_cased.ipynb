{
 "cells": [
  {
   "cell_type": "code",
   "execution_count": 17,
   "id": "a8ca3373",
   "metadata": {},
   "outputs": [],
   "source": [
    "from transformers import BertForSequenceClassification, BertTokenizerFast\n",
    "import torch"
   ]
  },
  {
   "cell_type": "code",
   "execution_count": 18,
   "id": "2f4b9272",
   "metadata": {},
   "outputs": [],
   "source": [
    "tokenizer = BertTokenizerFast.from_pretrained(\"bert-base-cased-finetuned-mrpc\")\n",
    "model = BertForSequenceClassification.from_pretrained(\"bert-base-cased-finetuned-mrpc\")"
   ]
  },
  {
   "cell_type": "code",
   "execution_count": 27,
   "id": "51a9df14",
   "metadata": {},
   "outputs": [
    {
     "name": "stdout",
     "output_type": "stream",
     "text": [
      "Caesar marched into Rome after crossing the Rubicon. In Rome's history, this was a watershed moment. should be a paraphrase\n",
      "not paraphrase: 6%\n",
      "paraphrase: 94%\n"
     ]
    }
   ],
   "source": [
    "classes = [\"not paraphrase\", \"paraphrase\"]\n",
    "\n",
    "sequence_A = \"Caesar crossed the Rubicon and marched towards Rome. This was a turning point in the history of Rome.\"\n",
    "sequence_B = \"Caesar marched into Rome after crossing the Rubicon. In Rome's history, this was a watershed moment.\"\n",
    "\n",
    "paraphrase = tokenizer.encode_plus(sequence_A, sequence_B, return_tensors=\"pt\")\n",
    "paraphrase_classification_logits = model(**paraphrase)[0]\n",
    "\n",
    "paraphrase_reuslts = torch.nn.Softmax(paraphrase_classification_logits)\n",
    "\n",
    "print(sequence_B, \"should be a paraphrase\")\n",
    "for i in range(len(classes)):\n",
    "    print(f\"{classes[i]}: {round(paraphrase_results[i] * 100)}%\")"
   ]
  }
 ],
 "metadata": {
  "kernelspec": {
   "display_name": "test",
   "language": "python",
   "name": "test"
  },
  "language_info": {
   "codemirror_mode": {
    "name": "ipython",
    "version": 3
   },
   "file_extension": ".py",
   "mimetype": "text/x-python",
   "name": "python",
   "nbconvert_exporter": "python",
   "pygments_lexer": "ipython3",
   "version": "3.7.2"
  }
 },
 "nbformat": 4,
 "nbformat_minor": 5
}
