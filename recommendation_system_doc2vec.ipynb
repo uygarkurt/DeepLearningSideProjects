{
 "cells": [
  {
   "cell_type": "code",
   "execution_count": 1,
   "id": "19feec32",
   "metadata": {},
   "outputs": [],
   "source": [
    "from nltk.tokenize import word_tokenize\n",
    "from gensim.models.doc2vec import Doc2Vec, TaggedDocument"
   ]
  },
  {
   "cell_type": "code",
   "execution_count": 2,
   "id": "c199d6ff",
   "metadata": {},
   "outputs": [],
   "source": [
    "DATA_PATH=\"booksummaries.txt\"\n",
    "mydata={}\n",
    "for line in open(DATA_PATH, encoding=\"utf-8\"):\n",
    "    temp = line.split(\"\\t\")\n",
    "    mydata[temp[2]] = temp[6]"
   ]
  },
  {
   "cell_type": "code",
   "execution_count": 5,
   "id": "87683271",
   "metadata": {},
   "outputs": [],
   "source": [
    "d2vtrain = [TaggedDocument((word_tokenize(mydata[t])), \n",
    "                           tags=[t]) for t in mydata.keys()]\n",
    "\n",
    "model = Doc2Vec(vector_size=50, alpha=0.025, min_count=10, dm=1, epochs=100)"
   ]
  },
  {
   "cell_type": "code",
   "execution_count": 7,
   "id": "6bd717dc",
   "metadata": {},
   "outputs": [],
   "source": [
    "model.build_vocab(d2vtrain)\n",
    "model.train(d2vtrain, total_examples=model.corpus_count, epochs=model.epochs)"
   ]
  },
  {
   "cell_type": "code",
   "execution_count": 8,
   "id": "872edb5c",
   "metadata": {},
   "outputs": [],
   "source": [
    "model.save(\"d2v.model\")"
   ]
  },
  {
   "cell_type": "code",
   "execution_count": 9,
   "id": "b5398369",
   "metadata": {},
   "outputs": [],
   "source": [
    "model=Doc2Vec.load(\"d2v.model\")"
   ]
  },
  {
   "cell_type": "code",
   "execution_count": 10,
   "id": "b15bca74",
   "metadata": {},
   "outputs": [],
   "source": [
    "sample=\"Napoleon enacts changes to the governance structure of the farm, replacing meetings with a committee of pigs who will run the farm.\""
   ]
  },
  {
   "cell_type": "code",
   "execution_count": 12,
   "id": "be846904",
   "metadata": {},
   "outputs": [
    {
     "name": "stderr",
     "output_type": "stream",
     "text": [
      "/home/uygar/anaconda3/envs/test/lib/python3.7/site-packages/ipykernel_launcher.py:2: DeprecationWarning: Call to deprecated `docvecs` (The `docvecs` property has been renamed `dv`.).\n",
      "  \n"
     ]
    },
    {
     "name": "stdout",
     "output_type": "stream",
     "text": [
      "[('Animal Farm', 0.7028560042381287), ('The Wild Irish Girl', 0.630840539932251), ('Payback: Debt and the Shadow Side of Wealth', 0.6238099932670593), (\"Snowball's Chance\", 0.6061192154884338), ('Tros of Samothrace', 0.595264196395874), ('The Clue in the Crumbling Wall', 0.56802898645401), ('Poor White', 0.5658370852470398), ('Family Matters', 0.5656791925430298), ('The Hundred and One Dalmatians', 0.5650054216384888), ('Snuff', 0.550622284412384)]\n"
     ]
    }
   ],
   "source": [
    "new_vector = model.infer_vector(word_tokenize(sample))\n",
    "sims = model.docvecs.most_similar([new_vector])\n",
    "print(sims)"
   ]
  },
  {
   "cell_type": "code",
   "execution_count": null,
   "id": "9e0ec139",
   "metadata": {},
   "outputs": [],
   "source": []
  }
 ],
 "metadata": {
  "kernelspec": {
   "display_name": "test",
   "language": "python",
   "name": "test"
  },
  "language_info": {
   "codemirror_mode": {
    "name": "ipython",
    "version": 3
   },
   "file_extension": ".py",
   "mimetype": "text/x-python",
   "name": "python",
   "nbconvert_exporter": "python",
   "pygments_lexer": "ipython3",
   "version": "3.7.2"
  }
 },
 "nbformat": 4,
 "nbformat_minor": 5
}
